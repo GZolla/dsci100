{
 "cells": [
  {
   "cell_type": "code",
   "execution_count": 4,
   "metadata": {},
   "outputs": [
    {
     "name": "stderr",
     "output_type": "stream",
     "text": [
      "Warning message in file(filename, \"r\", encoding = encoding):\n",
      "“cannot open file 'tests.R': No such file or directory”\n"
     ]
    },
    {
     "ename": "ERROR",
     "evalue": "Error in file(filename, \"r\", encoding = encoding): cannot open the connection\n",
     "output_type": "error",
     "traceback": [
      "Error in file(filename, \"r\", encoding = encoding): cannot open the connection\nTraceback:\n",
      "1. source(\"tests.R\")",
      "2. file(filename, \"r\", encoding = encoding)"
     ]
    }
   ],
   "source": [
    "library(tidyverse)\n",
    "library(repr)\n",
    "library(tidymodels)\n",
    "options(repr.matrix.max.rows = 6)\n",
    "source('tests.R')\n",
    "source('cleanup.R')"
   ]
  },
  {
   "cell_type": "code",
   "execution_count": null,
   "metadata": {},
   "outputs": [],
   "source": [
    "train <- read_csv(\"train.csv\") %>% mutate(Survived = as_factor(Survived), DirectRelatives = SibSp + Parch) %>% mutate(across(where(is.numeric),scale)) %>%  drop_na(-Cabin)\n",
    "summary(train)"
   ]
  },
  {
   "cell_type": "code",
   "execution_count": 5,
   "metadata": {},
   "outputs": [
    {
     "ename": "ERROR",
     "evalue": "Error in is_tibble(data): object 'train' not found\n",
     "output_type": "error",
     "traceback": [
      "Error in is_tibble(data): object 'train' not found\nTraceback:\n",
      "1. recipe(Survived ~ Age + Fare, data = train) %>% step_scale(all_predictors()) %>% \n .     step_center(all_predictors())",
      "2. eval(lhs, parent, parent)",
      "3. eval(lhs, parent, parent)",
      "4. recipe(Survived ~ Age + Fare, data = train)",
      "5. recipe.formula(Survived ~ Age + Fare, data = train)",
      "6. form2args(formula, data, ...)",
      "7. is_tibble(data)"
     ]
    }
   ],
   "source": [
    "titanic_recipe <- recipe(Survived ~ Age + Fare , data = train) %>%\n",
    "   step_scale(all_predictors()) %>%\n",
    "    step_center(all_predictors())\n",
    "titanic_tune <- nearest_neighbor(weight_func = \"rectangular\", neighbors = tune()) %>%\n",
    "      set_engine(\"kknn\") %>%\n",
    "      set_mode(\"classification\")\n",
    "titanic_vfold <- vfold_cv(train, v = 5, strata = Survived)\n",
    "titanic_results <- workflow() %>%\n",
    "      add_recipe(titanic_recipe) %>%\n",
    "      add_model(titanic_tune) %>%\n",
    "      tune_grid(resamples = titanic_vfold, grid = 50) %>%\n",
    "      collect_metrics()\n",
    "accuracies <- titanic_results%>%\n",
    "filter(.metric == 'accuracy')"
   ]
  },
  {
   "cell_type": "code",
   "execution_count": null,
   "metadata": {},
   "outputs": [],
   "source": [
    "titanic_plot <- ggplot(accuracies, aes(x = neighbors, y = mean)) +\n",
    "geom_point() +\n",
    "geom_line() +\n",
    "labs(x = 'Neighbors', y = 'Accuracy Estimate')\n",
    "titanic_plot"
   ]
  },
  {
   "cell_type": "code",
   "execution_count": 2,
   "metadata": {},
   "outputs": [
    {
     "ename": "ERROR",
     "evalue": "Error in eval(lhs, parent, parent): object 'train' not found\n",
     "output_type": "error",
     "traceback": [
      "Error in eval(lhs, parent, parent): object 'train' not found\nTraceback:\n",
      "1. train %>% ggplot(aes(x = Age, y = Fare))",
      "2. eval(lhs, parent, parent)",
      "3. eval(lhs, parent, parent)"
     ]
    }
   ],
   "source": [
    "options(repr.plot.width = 10, repr.plot.height = 8) \n",
    "titanic_plot <- train %>% \n",
    "        ggplot(aes(x = Age, y = Fare)) +\n",
    "        geom_point(aes(colour = Survived, shape = Sex)) + \n",
    "        labs(x = \"Age\", y = \"Fare Value\", \n",
    "             colour = \"Survived\", shape = \"Sex\") +\n",
    "        ggtitle(\"Relationship Between Survival and Fare value, Age, and Sex\")\n",
    "titanic_plot"
   ]
  },
  {
   "cell_type": "code",
   "execution_count": null,
   "metadata": {},
   "outputs": [],
   "source": []
  },
  {
   "cell_type": "markdown",
   "metadata": {},
   "source": [
    "Extra Code:"
   ]
  },
  {
   "cell_type": "code",
   "execution_count": null,
   "metadata": {},
   "outputs": [],
   "source": [
    "set.seed(1999)\n",
    "\n",
    "titanic_recipe <- recipe(Survived ~ Age + Fare, data = train) %>%\n",
    "    step_scale(all_predictors()) %>%\n",
    "    step_center(all_predictors())\n",
    "titanic_spec <- nearest_neighbor(weight_func = \"rectangular\", neighbors = 3) %>%\n",
    "       set_engine(\"kknn\") %>%\n",
    "       set_mode(\"classification\")\n",
    "titanic_fit <- workflow() %>%\n",
    "       add_recipe(titanic_recipe) %>%\n",
    "       add_model(titanic_spec) %>%\n",
    "       fit(data = train)\n",
    "titanic_test_predictions <- predict(titanic_fit, train) %>%\n",
    "    bind_cols(train)\n",
    "titanic_prediction_accuracy <- titanic_test_predictions %>%\n",
    "         metrics(truth = Survived, estimate = .pred_class)\n",
    "titanic_prediction_accuracy"
   ]
  },
  {
   "cell_type": "code",
   "execution_count": null,
   "metadata": {},
   "outputs": [],
   "source": [
    "titanic_vfold <- vfold_cv(train, v = 5, strata = Survived)\n",
    "titanic_resample_fit <- workflow() %>%\n",
    "       add_recipe(titanic_recipe) %>%\n",
    "       add_model(titanic_spec) %>%\n",
    "       fit_resamples(resamples = titanic_vfold)\n",
    "titanic_metrics <- workflow() %>%\n",
    "       add_recipe(titanic_recipe) %>%\n",
    "       add_model(titanic_spec) %>%\n",
    "       fit_resamples(resamples = titanic_vfold) %>%\n",
    "       collect_metrics()\n",
    "titanic_metrics\n",
    "\n",
    "titanic_tune <- nearest_neighbor(weight_func = \"rectangular\", \n",
    "                             neighbors = tune()) %>%\n",
    "  set_engine(\"kknn\") %>%\n",
    "  set_mode(\"classification\")\n",
    "knn_results <- workflow() %>%\n",
    "       add_recipe(titanic_recipe) %>%\n",
    "       add_model(titanic_tune) %>%\n",
    "       tune_grid(resamples = titanic_vfold, grid = 10) %>%\n",
    "       collect_metrics()\n",
    "knn_results\n",
    "\n",
    "accuracies <- knn_results %>% \n",
    "       filter(.metric == \"accuracy\")\n",
    "accuracy_versus_k <- ggplot(accuracies, aes(x = neighbors, y = mean))+\n",
    "       geom_point() +\n",
    "       geom_line() +\n",
    "       labs(x = \"Neighbors\", y = \"Accuracy Estimate\") +\n",
    "       scale_x_continuous(breaks = seq(0, 14, by = 1)) +  # adjusting the x-axis\n",
    "       scale_y_continuous(limits = c(0.4, 1.0)) # adjusting the y-axis\n",
    "accuracy_versus_k"
   ]
  }
 ],
 "metadata": {
  "kernelspec": {
   "display_name": "R",
   "language": "R",
   "name": "ir"
  },
  "language_info": {
   "codemirror_mode": "r",
   "file_extension": ".r",
   "mimetype": "text/x-r-source",
   "name": "R",
   "pygments_lexer": "r",
   "version": "4.0.0"
  }
 },
 "nbformat": 4,
 "nbformat_minor": 4
}
